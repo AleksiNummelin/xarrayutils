{
 "cells": [
  {
   "cell_type": "markdown",
   "metadata": {},
   "source": [
    "# the linear interpolation is super slow. Try to speed it up with numba as an optional step"
   ]
  },
  {
   "cell_type": "code",
   "execution_count": 1,
   "metadata": {},
   "outputs": [
    {
     "name": "stderr",
     "output_type": "stream",
     "text": [
      "/Users/juliusbusecke/miniconda/envs/test_env_xarrayutils/lib/python3.6/site-packages/distributed/utils.py:136: RuntimeWarning: Couldn't detect a suitable IP address for reaching '8.8.8.8', defaulting to '127.0.0.1': [Errno 51] Network is unreachable\n",
      "  RuntimeWarning,\n"
     ]
    }
   ],
   "source": [
    "from xarrayutils.vertical_coordinates import _coord_interp, linear_interpolation_regrid"
   ]
  },
  {
   "cell_type": "code",
   "execution_count": 2,
   "metadata": {},
   "outputs": [
    {
     "data": {
      "text/plain": [
       "<xarray.core.options.set_options at 0x1178c9390>"
      ]
     },
     "execution_count": 2,
     "metadata": {},
     "output_type": "execute_result"
    }
   ],
   "source": [
    "%load_ext autoreload\n",
    "%autoreload 2\n",
    "import xarray as xr\n",
    "import numpy as np\n",
    "import matplotlib.pyplot as plt\n",
    "%matplotlib inline\n",
    "plt.rcParams['figure.figsize'] = 12, 6\n",
    "%config InlineBackend.figure_format = 'retina'\n",
    "xr.set_options(cmap_sequential='cividis', display_style='html')\n",
    "#import warnings\n",
    "#warnings.filterwarnings(\"ignore\")\n"
   ]
  },
  {
   "cell_type": "code",
   "execution_count": 3,
   "metadata": {},
   "outputs": [
    {
     "data": {
      "text/plain": [
       "array([  nan, 58.08, 51.  , 23.88])"
      ]
     },
     "execution_count": 3,
     "metadata": {},
     "output_type": "execute_result"
    }
   ],
   "source": [
    "# x = np.arange(17)+0.5\n",
    "# y = np.arange(17)*4.0+9.0\n",
    "# target_y = np.array([4.23, 6.0, 12.78, -9])\n",
    "\n",
    "\n",
    "x = np.arange(17)+0.5\n",
    "y = np.flip(np.arange(17)*4.0+9.0)\n",
    "# y = np.arange(17)*4.0+9.0\n",
    "target_x = np.array([-900, 4.23, 6.0, 12.78])\n",
    "\n",
    "_coord_interp(y, x, target_x)"
   ]
  },
  {
   "cell_type": "code",
   "execution_count": 4,
   "metadata": {},
   "outputs": [],
   "source": [
    "# try to wrap numpy interpolation into numba\n",
    "from numba import jit\n",
    "\n",
    "@jit(nopython=True)\n",
    "def interpolate_numba(target_x, x, y):\n",
    "    # mask out the out of range values\n",
    "    return np.interp(target_x, x, y) # the padding is not supported"
   ]
  },
  {
   "cell_type": "code",
   "execution_count": 5,
   "metadata": {},
   "outputs": [
    {
     "data": {
      "text/plain": [
       "array([73.  , 58.08, 51.  , 23.88])"
      ]
     },
     "execution_count": 5,
     "metadata": {},
     "output_type": "execute_result"
    }
   ],
   "source": [
    "interpolate_numba(target_x, x, y)"
   ]
  },
  {
   "cell_type": "code",
   "execution_count": 6,
   "metadata": {},
   "outputs": [
    {
     "name": "stdout",
     "output_type": "stream",
     "text": [
      "95.8 µs ± 3.66 µs per loop (mean ± std. dev. of 7 runs, 10000 loops each)\n"
     ]
    }
   ],
   "source": [
    "%timeit _coord_interp(y, x, target_x)"
   ]
  },
  {
   "cell_type": "code",
   "execution_count": 7,
   "metadata": {},
   "outputs": [
    {
     "name": "stdout",
     "output_type": "stream",
     "text": [
      "1.39 µs ± 54.3 ns per loop (mean ± std. dev. of 7 runs, 1000000 loops each)\n"
     ]
    }
   ],
   "source": [
    "%timeit interpolate_numba(target_x, x, y)"
   ]
  },
  {
   "cell_type": "markdown",
   "metadata": {},
   "source": [
    "Holy cow! That was easy!\n",
    "> Note that the padding inputs `left`/`right` are not supported for np.interp, but we can easily fix that I think.\n",
    "\n",
    "Lets repeat this for a multidimensional array"
   ]
  },
  {
   "cell_type": "code",
   "execution_count": 8,
   "metadata": {},
   "outputs": [],
   "source": [
    "# x = np.arange(17)+0.5\n",
    "# y = np.arange(17)*4.0+9.0\n",
    "# target_y = np.array([4.23, 6.0, 12.78, -9])"
   ]
  },
  {
   "cell_type": "code",
   "execution_count": 9,
   "metadata": {},
   "outputs": [],
   "source": [
    "def broadcast_custom(arr):\n",
    "    return arr[np.newaxis, np.newaxis,:].repeat(3,axis=0).repeat(6, axis=1)"
   ]
  },
  {
   "cell_type": "code",
   "execution_count": 10,
   "metadata": {},
   "outputs": [],
   "source": [
    "xx = broadcast_custom(x)\n",
    "yy = broadcast_custom(y)\n",
    "target_xx = broadcast_custom(target_x)\n",
    "\n",
    "# convert to da\n",
    "da_xx = xr.DataArray(xx, dims=['something', 'smth', 'dangerzone'])\n",
    "da_yy = xr.DataArray(yy, dims=['something', 'smth', 'dangerzone'])\n",
    "da_target = xr.DataArray(target_x, dims=['daaangerzone'])\n",
    "\n",
    "out = linear_interpolation_regrid(da_yy, da_xx, da_target, target_value_dim='daaangerzone', z_dim='dangerzone')"
   ]
  },
  {
   "cell_type": "code",
   "execution_count": 11,
   "metadata": {},
   "outputs": [
    {
     "data": {
      "text/plain": [
       "array([  nan, 58.08, 51.  , 23.88])"
      ]
     },
     "execution_count": 11,
     "metadata": {},
     "output_type": "execute_result"
    }
   ],
   "source": [
    "out.isel(something=0, smth=0).data"
   ]
  },
  {
   "cell_type": "code",
   "execution_count": 83,
   "metadata": {},
   "outputs": [],
   "source": [
    "# # @jit(nopython=True)\n",
    "# def interpolate_numba_multi(target_x, x, y, pad_left=None, pad_right=None):\n",
    "#     # check shape does not work. For now assume this is only used with xr.apply_ufunc, which should handle the parallelization properly\n",
    "    \n",
    "#     def interpolate_single(single_target, single_x, single_y, pad_left, pad_right):\n",
    "#         temp = np.interp(single_target, single_x, single_y)\n",
    "\n",
    "#         left_idx = single_target <= single_x.min() # the notation here is crap. overhaul with consisten\n",
    "#         temp[left_idx] = pad_left\n",
    "        \n",
    "#         right_idx = single_target >= single_x.max()\n",
    "#         temp[right_idx] = pad_right\n",
    "#         return temp\n",
    "    \n",
    "#     # capture original shape\n",
    "#     shp = x.shape\n",
    "#     target_shp = target_x.shape    \n",
    "    \n",
    "#     # convert all np arrays to max 2d.\n",
    "#     # assumes that the last dimensions is the interpolation dimension (I think this is how xr.apply_ufuncs does this, by broadcasting the core dim\n",
    "# #     to the end)\n",
    "\n",
    "#     if len(shp) == 1:\n",
    "#         if pad_left is None:\n",
    "#             pad_left = np.array([np.nan])\n",
    "\n",
    "#         if pad_right is None:\n",
    "#             pad_right = np.array([np.nan])\n",
    "        \n",
    "#         # this is repetitive, but numba complains otherwise\n",
    "#         single_target = target_x\n",
    "#         single_x = x\n",
    "#         single_y = y\n",
    "#         single_pad_left = pad_left\n",
    "#         single_pad_right = pad_right\n",
    "        \n",
    "#         temp = np.interp(single_target, single_x, single_y)\n",
    "\n",
    "#         left_idx = single_target <= single_x.min() # the notation here is crap. overhaul with consisten\n",
    "#         temp[left_idx] = single_pad_left\n",
    "        \n",
    "#         right_idx = single_target >= single_x.max()\n",
    "#         temp[right_idx] = single_pad_right\n",
    "        \n",
    "#         return temp\n",
    "        \n",
    "#     else:\n",
    "    \n",
    "#         x = x.reshape((-1,shp[-1]))\n",
    "#         y = y.reshape((-1,shp[-1]))\n",
    "#         target_x = target_x.reshape((-1, target_shp[-1]))\n",
    "\n",
    "#         if pad_left is None:\n",
    "#             pad_left = np.ones_like(target_x[:,0]) * np.nan\n",
    "\n",
    "#         if pad_right is None:\n",
    "#             pad_right = np.ones_like(target_x[:,0]) * np.nan\n",
    "\n",
    "\n",
    "#         interpolated = np.ones_like(target_x, dtype=target_x.dtype) * np.nan # is the dtype necessary?\n",
    "\n",
    "#         for ii in range(x.shape[0]):\n",
    "#             # this is repetitive, but numba complains otherwise\n",
    "#             single_target = target_x[ii,:]\n",
    "#             single_x = x[ii,:]\n",
    "#             single_y = y[ii,:]\n",
    "#             single_pad_left = pad_left[ii]\n",
    "#             single_pad_right = pad_right[ii]\n",
    "            \n",
    "\n",
    "#             temp = np.interp(single_target, single_x, single_y)\n",
    "\n",
    "#             left_idx = single_target <= single_x.min() # the notation here is crap. overhaul with consisten\n",
    "#             temp[left_idx] = single_pad_left\n",
    "\n",
    "#             right_idx = single_target >= single_x.max()\n",
    "#             temp[right_idx] = single_pad_right\n",
    "#             interpolated[ii,:] = temp\n",
    "\n",
    "\n",
    "#         # mask out the out of range values\n",
    "#         return interpolated.reshape(target_shp)"
   ]
  },
  {
   "cell_type": "code",
   "execution_count": 110,
   "metadata": {},
   "outputs": [
    {
     "data": {
      "text/plain": [
       "(3, 6, 17)"
      ]
     },
     "execution_count": 110,
     "metadata": {},
     "output_type": "execute_result"
    }
   ],
   "source": []
  },
  {
   "cell_type": "code",
   "execution_count": 128,
   "metadata": {},
   "outputs": [
    {
     "data": {
      "text/plain": [
       "(18, 17)"
      ]
     },
     "execution_count": 128,
     "metadata": {},
     "output_type": "execute_result"
    }
   ],
   "source": [
    "xx.reshape(3*6,17).shape"
   ]
  },
  {
   "cell_type": "code",
   "execution_count": 130,
   "metadata": {},
   "outputs": [
    {
     "data": {
      "text/plain": [
       "18"
      ]
     },
     "execution_count": 130,
     "metadata": {},
     "output_type": "execute_result"
    }
   ],
   "source": [
    "tt = np.array(xx.shape[0:-1])\n",
    "tt.prod()"
   ]
  },
  {
   "cell_type": "code",
   "execution_count": 131,
   "metadata": {},
   "outputs": [],
   "source": [
    "from functools import reduce\n",
    "import operator\n",
    "def prod(iterable):\n",
    "    return reduce(operator.mul, iterable, 1)\n",
    "\n",
    "@jit(nopython=True)\n",
    "def interpolate_numba_multi(target_x, x, y, pad_left=None, pad_right=None):\n",
    "    # check shape does not work. For now assume this is only used with xr.apply_ufunc, which should handle the parallelization properly\n",
    "    \n",
    "    # capture original shape\n",
    "    shp = x.shape\n",
    "    target_shp = target_x.shape \n",
    "    flat_shp = (np.prod(np.array(shp[0:-1])), shp[-1])\n",
    "    flat_shp_target = (np.prod(np.array(target_shp[0:-1])), target_shp[-1])\n",
    "    \n",
    "    print(shp)\n",
    "    # convert all np arrays to max 2d.\n",
    "    # assumes that the last dimensions is the interpolation dimension (I think this is how xr.apply_ufuncs does this, by broadcasting the core dim\n",
    "    # to the end)\n",
    "    \n",
    "    \n",
    "#     x = x.reshape((-1,shp[-1]))# this was problematic for numba, lets try to explicitly pass array\n",
    "    x = x.reshape(flat_shp)\n",
    "    y = y.reshape(flat_shp)\n",
    "    target_x = target_x.reshape(flat_shp_target)\n",
    "    \n",
    "    if pad_left is None:\n",
    "        pad_left = np.ones_like(target_x[:,0]) * np.nan\n",
    "\n",
    "    if pad_right is None:\n",
    "        pad_right = np.ones_like(target_x[:,0]) * np.nan\n",
    "\n",
    "    \n",
    "    interpolated = np.ones_like(target_x, dtype=x.dtype) * np.nan# is the dtype necessary?\n",
    "    \n",
    "    for ii in range(x.shape[0]):\n",
    "        temp = np.interp(target_x[ii,:], x[ii,:], y[ii,:])\n",
    "        # pad left\n",
    "        # ughhh this needs to know how y is sorted...\n",
    "        left_idx = target_x[ii,:] <= x[ii,:].min() # the notation here is crap. overhaul with consisten\n",
    "        temp[left_idx] = pad_left[ii]\n",
    "        \n",
    "        right_idx = target_x[ii,:] >= x[ii,:].max()\n",
    "        temp[right_idx] = pad_right[ii]\n",
    "        \n",
    "                         \n",
    "                        \n",
    "        interpolated[ii,:] = temp\n",
    "    \n",
    "    \n",
    "    # mask out the out of range values\n",
    "    return interpolated.reshape(target_shp)"
   ]
  },
  {
   "cell_type": "code",
   "execution_count": 138,
   "metadata": {},
   "outputs": [
    {
     "name": "stdout",
     "output_type": "stream",
     "text": [
      "(3, 6, 17)\n"
     ]
    },
    {
     "data": {
      "text/plain": [
       "array([  nan, 58.08, 51.  , 23.88])"
      ]
     },
     "execution_count": 138,
     "metadata": {},
     "output_type": "execute_result"
    }
   ],
   "source": [
    "out_numba = interpolate_numba_multi(target_xx, xx, yy)\n",
    "out_numba[0,0,:]"
   ]
  },
  {
   "cell_type": "code",
   "execution_count": 141,
   "metadata": {},
   "outputs": [
    {
     "data": {
      "text/plain": [
       "array([[[-900.  ,    4.23,    6.  ,   12.78],\n",
       "        [-900.  ,    4.23,    6.  ,   12.78],\n",
       "        [-900.  ,    4.23,    6.  ,   12.78],\n",
       "        [-900.  ,    4.23,    6.  ,   12.78],\n",
       "        [-900.  ,    4.23,    6.  ,   12.78],\n",
       "        [-900.  ,    4.23,    6.  ,   12.78]],\n",
       "\n",
       "       [[-900.  ,    4.23,    6.  ,   12.78],\n",
       "        [-900.  ,    4.23,    6.  ,   12.78],\n",
       "        [-900.  ,    4.23,    6.  ,   12.78],\n",
       "        [-900.  ,    4.23,    6.  ,   12.78],\n",
       "        [-900.  ,    4.23,    6.  ,   12.78],\n",
       "        [-900.  ,    4.23,    6.  ,   12.78]]])"
      ]
     },
     "execution_count": 141,
     "metadata": {},
     "output_type": "execute_result"
    }
   ],
   "source": [
    "target_xx[0:2,:,:]"
   ]
  },
  {
   "cell_type": "code",
   "execution_count": 134,
   "metadata": {},
   "outputs": [
    {
     "data": {
      "text/plain": [
       "(2, 2, 4)"
      ]
     },
     "execution_count": 134,
     "metadata": {},
     "output_type": "execute_result"
    }
   ],
   "source": [
    "target_xx[0:2,0:2,:].shape"
   ]
  },
  {
   "cell_type": "markdown",
   "metadata": {},
   "source": [
    "oooof, this is hard. If the passed arrays have 3 dimensions this works, but if the chunks are 2D or even 1d it fails..."
   ]
  },
  {
   "cell_type": "code",
   "execution_count": 142,
   "metadata": {},
   "outputs": [
    {
     "name": "stdout",
     "output_type": "stream",
     "text": [
      "(2, 6, 17)\n"
     ]
    },
    {
     "data": {
      "text/plain": [
       "array([[[  nan, 58.08, 51.  , 23.88],\n",
       "        [  nan, 58.08, 51.  , 23.88],\n",
       "        [  nan, 58.08, 51.  , 23.88],\n",
       "        [  nan, 58.08, 51.  , 23.88],\n",
       "        [  nan, 58.08, 51.  , 23.88],\n",
       "        [  nan, 58.08, 51.  , 23.88]],\n",
       "\n",
       "       [[  nan, 58.08, 51.  , 23.88],\n",
       "        [  nan, 58.08, 51.  , 23.88],\n",
       "        [  nan, 58.08, 51.  , 23.88],\n",
       "        [  nan, 58.08, 51.  , 23.88],\n",
       "        [  nan, 58.08, 51.  , 23.88],\n",
       "        [  nan, 58.08, 51.  , 23.88]]])"
      ]
     },
     "execution_count": 142,
     "metadata": {},
     "output_type": "execute_result"
    }
   ],
   "source": [
    "out_numba = interpolate_numba_multi(target_xx[0:2,:,:], xx[0:2,:,:], yy[0:2,:,:])\n",
    "out_numba"
   ]
  },
  {
   "cell_type": "code",
   "execution_count": 143,
   "metadata": {},
   "outputs": [
    {
     "ename": "TypingError",
     "evalue": "Failed in nopython mode pipeline (step: nopython frontend)\nInvalid use of BoundFunction(array.reshape for array(float64, 1d, C)) with parameters (Tuple(float64, int64))\n * parameterized\n[1] During: resolving callee type: BoundFunction(array.reshape for array(float64, 1d, C))\n[2] During: typing of call at <ipython-input-131-bf3ed71ab624> (23)\n\n\nFile \"<ipython-input-131-bf3ed71ab624>\", line 23:\ndef interpolate_numba_multi(target_x, x, y, pad_left=None, pad_right=None):\n    <source elided>\n#     x = x.reshape((-1,shp[-1]))# this was problematic for numba, lets try to explicitly pass array\n    x = x.reshape(flat_shp)\n    ^\n\nThis is not usually a problem with Numba itself but instead often caused by\nthe use of unsupported features or an issue in resolving types.\n\nTo see Python/NumPy features supported by the latest release of Numba visit:\nhttp://numba.pydata.org/numba-doc/latest/reference/pysupported.html\nand\nhttp://numba.pydata.org/numba-doc/latest/reference/numpysupported.html\n\nFor more information about typing errors and how to debug them visit:\nhttp://numba.pydata.org/numba-doc/latest/user/troubleshoot.html#my-code-doesn-t-compile\n\nIf you think your code should work with Numba, please report the error message\nand traceback, along with a minimal reproducer at:\nhttps://github.com/numba/numba/issues/new\n\nThis is not usually a problem with Numba itself but instead often caused by\nthe use of unsupported features or an issue in resolving types.\n\nTo see Python/NumPy features supported by the latest release of Numba visit:\nhttp://numba.pydata.org/numba-doc/latest/reference/pysupported.html\nand\nhttp://numba.pydata.org/numba-doc/latest/reference/numpysupported.html\n\nFor more information about typing errors and how to debug them visit:\nhttp://numba.pydata.org/numba-doc/latest/user/troubleshoot.html#my-code-doesn-t-compile\n\nIf you think your code should work with Numba, please report the error message\nand traceback, along with a minimal reproducer at:\nhttps://github.com/numba/numba/issues/new\n",
     "output_type": "error",
     "traceback": [
      "\u001b[0;31m---------------------------------------------------------------------------\u001b[0m",
      "\u001b[0;31mTypingError\u001b[0m                               Traceback (most recent call last)",
      "\u001b[0;32m<ipython-input-143-eceb7511cf20>\u001b[0m in \u001b[0;36m<module>\u001b[0;34m\u001b[0m\n\u001b[0;32m----> 1\u001b[0;31m \u001b[0mout_numba\u001b[0m \u001b[0;34m=\u001b[0m \u001b[0minterpolate_numba_multi\u001b[0m\u001b[0;34m(\u001b[0m\u001b[0mtarget_x\u001b[0m\u001b[0;34m,\u001b[0m \u001b[0mx\u001b[0m\u001b[0;34m,\u001b[0m \u001b[0my\u001b[0m\u001b[0;34m)\u001b[0m\u001b[0;34m\u001b[0m\u001b[0;34m\u001b[0m\u001b[0m\n\u001b[0m\u001b[1;32m      2\u001b[0m \u001b[0mout_numba\u001b[0m\u001b[0;34m\u001b[0m\u001b[0;34m\u001b[0m\u001b[0m\n",
      "\u001b[0;32m~/miniconda/envs/test_env_xarrayutils/lib/python3.6/site-packages/numba/dispatcher.py\u001b[0m in \u001b[0;36m_compile_for_args\u001b[0;34m(self, *args, **kws)\u001b[0m\n\u001b[1;32m    399\u001b[0m                 \u001b[0me\u001b[0m\u001b[0;34m.\u001b[0m\u001b[0mpatch_message\u001b[0m\u001b[0;34m(\u001b[0m\u001b[0mmsg\u001b[0m\u001b[0;34m)\u001b[0m\u001b[0;34m\u001b[0m\u001b[0;34m\u001b[0m\u001b[0m\n\u001b[1;32m    400\u001b[0m \u001b[0;34m\u001b[0m\u001b[0m\n\u001b[0;32m--> 401\u001b[0;31m             \u001b[0merror_rewrite\u001b[0m\u001b[0;34m(\u001b[0m\u001b[0me\u001b[0m\u001b[0;34m,\u001b[0m \u001b[0;34m'typing'\u001b[0m\u001b[0;34m)\u001b[0m\u001b[0;34m\u001b[0m\u001b[0;34m\u001b[0m\u001b[0m\n\u001b[0m\u001b[1;32m    402\u001b[0m         \u001b[0;32mexcept\u001b[0m \u001b[0merrors\u001b[0m\u001b[0;34m.\u001b[0m\u001b[0mUnsupportedError\u001b[0m \u001b[0;32mas\u001b[0m \u001b[0me\u001b[0m\u001b[0;34m:\u001b[0m\u001b[0;34m\u001b[0m\u001b[0;34m\u001b[0m\u001b[0m\n\u001b[1;32m    403\u001b[0m             \u001b[0;31m# Something unsupported is present in the user code, add help info\u001b[0m\u001b[0;34m\u001b[0m\u001b[0;34m\u001b[0m\u001b[0;34m\u001b[0m\u001b[0m\n",
      "\u001b[0;32m~/miniconda/envs/test_env_xarrayutils/lib/python3.6/site-packages/numba/dispatcher.py\u001b[0m in \u001b[0;36merror_rewrite\u001b[0;34m(e, issue_type)\u001b[0m\n\u001b[1;32m    342\u001b[0m                 \u001b[0;32mraise\u001b[0m \u001b[0me\u001b[0m\u001b[0;34m\u001b[0m\u001b[0;34m\u001b[0m\u001b[0m\n\u001b[1;32m    343\u001b[0m             \u001b[0;32melse\u001b[0m\u001b[0;34m:\u001b[0m\u001b[0;34m\u001b[0m\u001b[0;34m\u001b[0m\u001b[0m\n\u001b[0;32m--> 344\u001b[0;31m                 \u001b[0mreraise\u001b[0m\u001b[0;34m(\u001b[0m\u001b[0mtype\u001b[0m\u001b[0;34m(\u001b[0m\u001b[0me\u001b[0m\u001b[0;34m)\u001b[0m\u001b[0;34m,\u001b[0m \u001b[0me\u001b[0m\u001b[0;34m,\u001b[0m \u001b[0;32mNone\u001b[0m\u001b[0;34m)\u001b[0m\u001b[0;34m\u001b[0m\u001b[0;34m\u001b[0m\u001b[0m\n\u001b[0m\u001b[1;32m    345\u001b[0m \u001b[0;34m\u001b[0m\u001b[0m\n\u001b[1;32m    346\u001b[0m         \u001b[0margtypes\u001b[0m \u001b[0;34m=\u001b[0m \u001b[0;34m[\u001b[0m\u001b[0;34m]\u001b[0m\u001b[0;34m\u001b[0m\u001b[0;34m\u001b[0m\u001b[0m\n",
      "\u001b[0;32m~/miniconda/envs/test_env_xarrayutils/lib/python3.6/site-packages/numba/six.py\u001b[0m in \u001b[0;36mreraise\u001b[0;34m(tp, value, tb)\u001b[0m\n\u001b[1;32m    666\u001b[0m             \u001b[0mvalue\u001b[0m \u001b[0;34m=\u001b[0m \u001b[0mtp\u001b[0m\u001b[0;34m(\u001b[0m\u001b[0;34m)\u001b[0m\u001b[0;34m\u001b[0m\u001b[0;34m\u001b[0m\u001b[0m\n\u001b[1;32m    667\u001b[0m         \u001b[0;32mif\u001b[0m \u001b[0mvalue\u001b[0m\u001b[0;34m.\u001b[0m\u001b[0m__traceback__\u001b[0m \u001b[0;32mis\u001b[0m \u001b[0;32mnot\u001b[0m \u001b[0mtb\u001b[0m\u001b[0;34m:\u001b[0m\u001b[0;34m\u001b[0m\u001b[0;34m\u001b[0m\u001b[0m\n\u001b[0;32m--> 668\u001b[0;31m             \u001b[0;32mraise\u001b[0m \u001b[0mvalue\u001b[0m\u001b[0;34m.\u001b[0m\u001b[0mwith_traceback\u001b[0m\u001b[0;34m(\u001b[0m\u001b[0mtb\u001b[0m\u001b[0;34m)\u001b[0m\u001b[0;34m\u001b[0m\u001b[0;34m\u001b[0m\u001b[0m\n\u001b[0m\u001b[1;32m    669\u001b[0m         \u001b[0;32mraise\u001b[0m \u001b[0mvalue\u001b[0m\u001b[0;34m\u001b[0m\u001b[0;34m\u001b[0m\u001b[0m\n\u001b[1;32m    670\u001b[0m \u001b[0;34m\u001b[0m\u001b[0m\n",
      "\u001b[0;31mTypingError\u001b[0m: Failed in nopython mode pipeline (step: nopython frontend)\nInvalid use of BoundFunction(array.reshape for array(float64, 1d, C)) with parameters (Tuple(float64, int64))\n * parameterized\n[1] During: resolving callee type: BoundFunction(array.reshape for array(float64, 1d, C))\n[2] During: typing of call at <ipython-input-131-bf3ed71ab624> (23)\n\n\nFile \"<ipython-input-131-bf3ed71ab624>\", line 23:\ndef interpolate_numba_multi(target_x, x, y, pad_left=None, pad_right=None):\n    <source elided>\n#     x = x.reshape((-1,shp[-1]))# this was problematic for numba, lets try to explicitly pass array\n    x = x.reshape(flat_shp)\n    ^\n\nThis is not usually a problem with Numba itself but instead often caused by\nthe use of unsupported features or an issue in resolving types.\n\nTo see Python/NumPy features supported by the latest release of Numba visit:\nhttp://numba.pydata.org/numba-doc/latest/reference/pysupported.html\nand\nhttp://numba.pydata.org/numba-doc/latest/reference/numpysupported.html\n\nFor more information about typing errors and how to debug them visit:\nhttp://numba.pydata.org/numba-doc/latest/user/troubleshoot.html#my-code-doesn-t-compile\n\nIf you think your code should work with Numba, please report the error message\nand traceback, along with a minimal reproducer at:\nhttps://github.com/numba/numba/issues/new\n\nThis is not usually a problem with Numba itself but instead often caused by\nthe use of unsupported features or an issue in resolving types.\n\nTo see Python/NumPy features supported by the latest release of Numba visit:\nhttp://numba.pydata.org/numba-doc/latest/reference/pysupported.html\nand\nhttp://numba.pydata.org/numba-doc/latest/reference/numpysupported.html\n\nFor more information about typing errors and how to debug them visit:\nhttp://numba.pydata.org/numba-doc/latest/user/troubleshoot.html#my-code-doesn-t-compile\n\nIf you think your code should work with Numba, please report the error message\nand traceback, along with a minimal reproducer at:\nhttps://github.com/numba/numba/issues/new\n"
     ]
    }
   ],
   "source": [
    "out_numba = interpolate_numba_multi(target_x, x, y)\n",
    "out_numba"
   ]
  },
  {
   "cell_type": "code",
   "execution_count": 69,
   "metadata": {},
   "outputs": [
    {
     "data": {
      "text/plain": [
       "array([-500.  ,   23.92,   31.  ,   58.12])"
      ]
     },
     "execution_count": 69,
     "metadata": {},
     "output_type": "execute_result"
    }
   ],
   "source": [
    "# does np.interp sort?\n",
    "\n",
    "\n",
    "x = np.arange(17)+0.5\n",
    "y = np.flip(np.arange(17)*4.0+9.0)\n",
    "y = np.arange(17)*4.0+9.0\n",
    "target_x = np.array([-900, 4.23, 6.0, 12.78])\n",
    "\n",
    "np.interp(target_x, x, y, left=-500, right=100)"
   ]
  },
  {
   "cell_type": "code",
   "execution_count": 66,
   "metadata": {},
   "outputs": [
    {
     "data": {
      "text/plain": [
       "[<matplotlib.lines.Line2D at 0x11d24b860>]"
      ]
     },
     "execution_count": 66,
     "metadata": {},
     "output_type": "execute_result"
    },
    {
     "data": {
      "image/png": "[encoded data removed]",
      "text/plain": [
       "<Figure size 864x432 with 1 Axes>"
      ]
     },
     "metadata": {
      "image/png": {
       "height": 357,
       "width": 703
      },
      "needs_background": "light"
     },
     "output_type": "display_data"
    }
   ],
   "source": [
    "plt.plot(x,y)"
   ]
  },
  {
   "cell_type": "code",
   "execution_count": null,
   "metadata": {},
   "outputs": [],
   "source": []
  }
 ],
 "metadata": {
  "kernelspec": {
   "display_name": "Python [conda env:test_env_xarrayutils] *",
   "language": "python",
   "name": "conda-env-test_env_xarrayutils-py"
  },
  "language_info": {
   "codemirror_mode": {
    "name": "ipython",
    "version": 3
   },
   "file_extension": ".py",
   "mimetype": "text/x-python",
   "name": "python",
   "nbconvert_exporter": "python",
   "pygments_lexer": "ipython3",
   "version": "3.6.7"
  }
 },
 "nbformat": 4,
 "nbformat_minor": 4
}
