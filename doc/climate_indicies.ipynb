{
 "cells": [
  {
   "cell_type": "markdown",
   "metadata": {},
   "source": [
    "## Calculate climate indicies from surface temperatures\n",
    "\n",
    "Climate indicies like the [NINO3.4 index](https://climatedataguide.ucar.edu/climate-data/nino-sst-indices-nino-12-3-34-4-oni-and-tni) are commonly used for analyzing climate variations from observations and models. xarrayutils contains some functions that make it easy to calculate climate indicies from any xarray dataset."
   ]
  },
  {
   "cell_type": "code",
   "execution_count": 1,
   "metadata": {},
   "outputs": [],
   "source": [
    "%load_ext autoreload\n",
    "%autoreload 2\n",
    "import xarray as xr\n",
    "%matplotlib inline"
   ]
  },
  {
   "cell_type": "markdown",
   "metadata": {},
   "source": [
    "The NINO3.4 index is defined on sea surface temperature (SST) data. Lets use the NOAA ERSST v5 product to recreate the index:"
   ]
  },
  {
   "cell_type": "code",
   "execution_count": 13,
   "metadata": {},
   "outputs": [
    {
     "data": {
      "text/html": [
       "<pre>&lt;xarray.DataArray &#x27;sst&#x27; (time: 719, lat: 11, lon: 180)&gt;\n",
       "dask.array&lt;getitem, shape=(719, 11, 180), dtype=float32, chunksize=(1, 11, 180), chunktype=numpy.ndarray&gt;\n",
       "Coordinates:\n",
       "  * lat      (lat) float32 -10.0 -8.0 -6.0 -4.0 -2.0 0.0 2.0 4.0 6.0 8.0 10.0\n",
       "  * lon      (lon) float32 0.0 2.0 4.0 6.0 8.0 ... 350.0 352.0 354.0 356.0 358.0\n",
       "  * time     (time) object 1960-01-01 00:00:00 ... 2019-11-01 00:00:00\n",
       "    area     (lat, lon) float32 dask.array&lt;chunksize=(11, 180), meta=np.ndarray&gt;\n",
       "Attributes:\n",
       "    long_name:     Monthly Means of Sea Surface Temperature\n",
       "    units:         degC\n",
       "    var_desc:      Sea Surface Temperature\n",
       "    level_desc:    Surface\n",
       "    statistic:     Mean\n",
       "    dataset:       NOAA Extended Reconstructed SST V5\n",
       "    parent_stat:   Individual Values\n",
       "    actual_range:  [-1.8     42.32636]\n",
       "    valid_range:   [-1.8 45. ]\n",
       "    _ChunkSizes:   [  1  89 180]</pre>"
      ],
      "text/plain": [
       "<xarray.DataArray 'sst' (time: 719, lat: 11, lon: 180)>\n",
       "dask.array<getitem, shape=(719, 11, 180), dtype=float32, chunksize=(1, 11, 180), chunktype=numpy.ndarray>\n",
       "Coordinates:\n",
       "  * lat      (lat) float32 -10.0 -8.0 -6.0 -4.0 -2.0 0.0 2.0 4.0 6.0 8.0 10.0\n",
       "  * lon      (lon) float32 0.0 2.0 4.0 6.0 8.0 ... 350.0 352.0 354.0 356.0 358.0\n",
       "  * time     (time) object 1960-01-01 00:00:00 ... 2019-11-01 00:00:00\n",
       "    area     (lat, lon) float32 dask.array<chunksize=(11, 180), meta=np.ndarray>\n",
       "Attributes:\n",
       "    long_name:     Monthly Means of Sea Surface Temperature\n",
       "    units:         degC\n",
       "    var_desc:      Sea Surface Temperature\n",
       "    level_desc:    Surface\n",
       "    statistic:     Mean\n",
       "    dataset:       NOAA Extended Reconstructed SST V5\n",
       "    parent_stat:   Individual Values\n",
       "    actual_range:  [-1.8     42.32636]\n",
       "    valid_range:   [-1.8 45. ]\n",
       "    _ChunkSizes:   [  1  89 180]"
      ]
     },
     "execution_count": 13,
     "metadata": {},
     "output_type": "execute_result"
    }
   ],
   "source": [
    "# load SST\n",
    "sst = xr.open_dataset('http://www.esrl.noaa.gov/psd/thredds/dodsC/Datasets/noaa.ersst.v5/sst.mnmean.nc',\n",
    "                      chunks={'time':1}, use_cftime=True)['sst']\n",
    "# sort the latitude (this is a quirk of the dataset and not always needed)\n",
    "sst = sst.sortby('lat').sel(lat=slice(-10, 10), time=slice('1960', None))\n",
    "\n",
    "# usually we would want to use the actual area, but to keep it simple we just use ones here.\n",
    "sst.coords['area'] = xr.ones_like(sst.isel(time=20).drop('time'))\n",
    "sst"
   ]
  },
  {
   "cell_type": "code",
   "execution_count": 14,
   "metadata": {},
   "outputs": [
    {
     "name": "stdout",
     "output_type": "stream",
     "text": [
      "[#############                           ] | 33% Completed |  0.1s"
     ]
    },
    {
     "name": "stderr",
     "output_type": "stream",
     "text": [
      "/Users/juliusbusecke/code/xarrayutils/xarrayutils/climate_indicies.py:165: MatplotlibDeprecationWarning: Adding an axes using the same arguments as a previous axes currently reuses the earlier instance.  In a future version, a new instance will always be created and returned.  Meanwhile, this warning can be suppressed, and the future behavior ensured, by passing a unique label to each axes instance.\n",
      "  ax = plt.axes(projection=ccrs.Robinson(180))\n"
     ]
    },
    {
     "name": "stdout",
     "output_type": "stream",
     "text": [
      "[########################################] | 100% Completed |  0.3s\n",
      "Calculating NINO3.4 index\n",
      "[########################################] | 100% Completed |  0.1s\n",
      "[########################################] | 100% Completed |  0.1s\n",
      "[########################################] | 100% Completed |  0.1s\n",
      "[########################################] | 100% Completed |  2min 18.2s\n"
     ]
    }
   ],
   "source": [
    "from xarrayutils.climate_indicies import extract_climate_indicies\n",
    "\n",
    "boxes = {'NINO3.4': {'lon': slice(190, 240), 'lat': slice(-5, 5)}}\n",
    "\n",
    "# Since the data is downloaded from the opendap link on the fly, this can take a bit of time,\n",
    "# depending on the internet connection speed\n",
    "from dask.diagnostics import ProgressBar\n",
    "with ProgressBar():\n",
    "    NINO = extract_climate_indicies(sst,\n",
    "                                    xdim='lon',\n",
    "                                    ydim='lat',\n",
    "                                    boxes=boxes,\n",
    "                                    print_map=True,\n",
    "                                    area_coord='area',\n",
    "                                    clim_period=slice('1960','1989')\n",
    "                                   )"
   ]
  },
  {
   "cell_type": "code",
   "execution_count": 10,
   "metadata": {},
   "outputs": [
    {
     "data": {
      "text/html": [
       "<pre>&lt;xarray.DataArray &#x27;NINO3.4&#x27; (time: 1991)&gt;\n",
       "array([-0.46134233, -0.2749826 , -0.11805411, ...,  0.70969564,\n",
       "        0.6486169 ,  0.7148889 ], dtype=float32)\n",
       "Coordinates:\n",
       "  * time     (time) datetime64[ns] 1854-01-01 1854-02-01 ... 2019-11-01\n",
       "    month    (time) int64 1 2 3 4 5 6 7 8 9 10 11 12 ... 1 2 3 4 5 6 7 8 9 10 11</pre>"
      ],
      "text/plain": [
       "<xarray.DataArray 'NINO3.4' (time: 1991)>\n",
       "array([-0.46134233, -0.2749826 , -0.11805411, ...,  0.70969564,\n",
       "        0.6486169 ,  0.7148889 ], dtype=float32)\n",
       "Coordinates:\n",
       "  * time     (time) datetime64[ns] 1854-01-01 1854-02-01 ... 2019-11-01\n",
       "    month    (time) int64 1 2 3 4 5 6 7 8 9 10 11 12 ... 1 2 3 4 5 6 7 8 9 10 11"
      ]
     },
     "execution_count": 10,
     "metadata": {},
     "output_type": "execute_result"
    }
   ],
   "source": [
    "NINO['NINO3.4']#.plot()"
   ]
  },
  {
   "cell_type": "code",
   "execution_count": null,
   "metadata": {},
   "outputs": [],
   "source": []
  },
  {
   "cell_type": "code",
   "execution_count": 2,
   "metadata": {},
   "outputs": [
    {
     "data": {
      "text/html": [
       "<pre>&lt;xarray.Dataset&gt;\n",
       "Dimensions:  (T: 360, X: 144, Y: 72)\n",
       "Coordinates:\n",
       "  * X        (X) float32 1.25 3.75 6.25 8.75 ... 351.25 353.75 356.25 358.75\n",
       "  * T        (T) object 1979-01-16 00:00:00 ... 2008-12-16 00:00:00\n",
       "  * Y        (Y) float32 88.75 86.25 83.75 81.25 ... -81.25 -83.75 -86.25 -88.75\n",
       "Data variables:\n",
       "    prcp     (T, Y, X) float32 ...\n",
       "Attributes:\n",
       "    Conventions:  IRIDL</pre>"
      ],
      "text/plain": [
       "<xarray.Dataset>\n",
       "Dimensions:  (T: 360, X: 144, Y: 72)\n",
       "Coordinates:\n",
       "  * X        (X) float32 1.25 3.75 6.25 8.75 ... 351.25 353.75 356.25 358.75\n",
       "  * T        (T) object 1979-01-16 00:00:00 ... 2008-12-16 00:00:00\n",
       "  * Y        (Y) float32 88.75 86.25 83.75 81.25 ... -81.25 -83.75 -86.25 -88.75\n",
       "Data variables:\n",
       "    prcp     (T, Y, X) float32 ...\n",
       "Attributes:\n",
       "    Conventions:  IRIDL"
      ]
     },
     "execution_count": 2,
     "metadata": {},
     "output_type": "execute_result"
    }
   ],
   "source": [
    "url = 'http://iridl.ldeo.columbia.edu/SOURCES/.NASA/.GPCP/.V2p1/.multi-satellite/.prcp/dods'\n",
    "dsp = xr.open_dataset(url, decode_times=False)\n",
    "# fix IRIDL metadata that does not conform to standards\n",
    "dsp.T.attrs['calendar'] = '360_day'\n",
    "dsp = xr.decode_cf(dsp)\n",
    "dsp"
   ]
  },
  {
   "cell_type": "code",
   "execution_count": 4,
   "metadata": {},
   "outputs": [],
   "source": [
    "# !cd ..; pip install -e ."
   ]
  },
  {
   "cell_type": "code",
   "execution_count": 6,
   "metadata": {},
   "outputs": [
    {
     "ename": "ModuleNotFoundError",
     "evalue": "No module named 'scipy'",
     "output_type": "error",
     "traceback": [
      "\u001b[0;31m---------------------------------------------------------------------------\u001b[0m",
      "\u001b[0;31mModuleNotFoundError\u001b[0m                       Traceback (most recent call last)",
      "\u001b[0;32m<ipython-input-6-09ec99bdf4dd>\u001b[0m in \u001b[0;36m<module>\u001b[0;34m\u001b[0m\n\u001b[1;32m      1\u001b[0m \u001b[0;31m#Calculate NINO3.4 index\u001b[0m\u001b[0;34m\u001b[0m\u001b[0;34m\u001b[0m\u001b[0;34m\u001b[0m\u001b[0m\n\u001b[0;32m----> 2\u001b[0;31m \u001b[0;32mfrom\u001b[0m \u001b[0mxarrayutils\u001b[0m\u001b[0;34m.\u001b[0m\u001b[0mclimate_indicies\u001b[0m \u001b[0;32mimport\u001b[0m \u001b[0mcalculate_ninox_index\u001b[0m\u001b[0;34m\u001b[0m\u001b[0;34m\u001b[0m\u001b[0m\n\u001b[0m",
      "\u001b[0;32m~/code/xarrayutils/xarrayutils/__init__.py\u001b[0m in \u001b[0;36m<module>\u001b[0;34m\u001b[0m\n\u001b[1;32m      1\u001b[0m \u001b[0m__version__\u001b[0m \u001b[0;34m=\u001b[0m \u001b[0;34m\"0.1.0\"\u001b[0m\u001b[0;34m\u001b[0m\u001b[0;34m\u001b[0m\u001b[0m\n\u001b[0;32m----> 2\u001b[0;31m \u001b[0;32mfrom\u001b[0m \u001b[0;34m.\u001b[0m \u001b[0;32mimport\u001b[0m \u001b[0mutils\u001b[0m\u001b[0;34m\u001b[0m\u001b[0;34m\u001b[0m\u001b[0m\n\u001b[0m\u001b[1;32m      3\u001b[0m \u001b[0;32mfrom\u001b[0m \u001b[0;34m.\u001b[0m \u001b[0;32mimport\u001b[0m \u001b[0mnumpy_utils\u001b[0m\u001b[0;34m\u001b[0m\u001b[0;34m\u001b[0m\u001b[0m\n\u001b[1;32m      4\u001b[0m \u001b[0;32mfrom\u001b[0m \u001b[0;34m.\u001b[0m \u001b[0;32mimport\u001b[0m \u001b[0mxmitgcm_utils\u001b[0m\u001b[0;34m\u001b[0m\u001b[0;34m\u001b[0m\u001b[0m\n\u001b[1;32m      5\u001b[0m \u001b[0;32mfrom\u001b[0m \u001b[0;34m.\u001b[0m\u001b[0mutils\u001b[0m \u001b[0;32mimport\u001b[0m \u001b[0;34m*\u001b[0m\u001b[0;34m\u001b[0m\u001b[0;34m\u001b[0m\u001b[0m\n",
      "\u001b[0;32m~/code/xarrayutils/xarrayutils/utils.py\u001b[0m in \u001b[0;36m<module>\u001b[0;34m\u001b[0m\n\u001b[1;32m      2\u001b[0m \u001b[0;32mimport\u001b[0m \u001b[0mnumpy\u001b[0m \u001b[0;32mas\u001b[0m \u001b[0mnp\u001b[0m\u001b[0;34m\u001b[0m\u001b[0;34m\u001b[0m\u001b[0m\n\u001b[1;32m      3\u001b[0m \u001b[0;32mimport\u001b[0m \u001b[0mxarray\u001b[0m \u001b[0;32mas\u001b[0m \u001b[0mxr\u001b[0m\u001b[0;34m\u001b[0m\u001b[0;34m\u001b[0m\u001b[0m\n\u001b[0;32m----> 4\u001b[0;31m \u001b[0;32mfrom\u001b[0m \u001b[0mscipy\u001b[0m\u001b[0;34m.\u001b[0m\u001b[0msignal\u001b[0m \u001b[0;32mimport\u001b[0m \u001b[0mfiltfilt\u001b[0m\u001b[0;34m,\u001b[0m \u001b[0mgaussian\u001b[0m\u001b[0;34m\u001b[0m\u001b[0;34m\u001b[0m\u001b[0m\n\u001b[0m\u001b[1;32m      5\u001b[0m \u001b[0;32mfrom\u001b[0m \u001b[0mscipy\u001b[0m \u001b[0;32mimport\u001b[0m \u001b[0mstats\u001b[0m\u001b[0;34m,\u001b[0m \u001b[0minterpolate\u001b[0m\u001b[0;34m\u001b[0m\u001b[0;34m\u001b[0m\u001b[0m\n\u001b[1;32m      6\u001b[0m \u001b[0;32mfrom\u001b[0m \u001b[0mdask\u001b[0m\u001b[0;34m.\u001b[0m\u001b[0marray\u001b[0m \u001b[0;32mimport\u001b[0m \u001b[0mcoarsen\u001b[0m\u001b[0;34m,\u001b[0m \u001b[0mones_like\u001b[0m\u001b[0;34m\u001b[0m\u001b[0;34m\u001b[0m\u001b[0m\n",
      "\u001b[0;31mModuleNotFoundError\u001b[0m: No module named 'scipy'"
     ]
    }
   ],
   "source": []
  },
  {
   "cell_type": "code",
   "execution_count": null,
   "metadata": {},
   "outputs": [],
   "source": []
  }
 ],
 "metadata": {
  "kernelspec": {
   "display_name": "Python 3",
   "language": "python",
   "name": "python3"
  },
  "language_info": {
   "codemirror_mode": {
    "name": "ipython",
    "version": 3
   },
   "file_extension": ".py",
   "mimetype": "text/x-python",
   "name": "python",
   "nbconvert_exporter": "python",
   "pygments_lexer": "ipython3",
   "version": "3.6.9"
  },
  "varInspector": {
   "cols": {
    "lenName": 16,
    "lenType": 16,
    "lenVar": 40
   },
   "kernels_config": {
    "python": {
     "delete_cmd_postfix": "",
     "delete_cmd_prefix": "del ",
     "library": "var_list.py",
     "varRefreshCmd": "print(var_dic_list())"
    },
    "r": {
     "delete_cmd_postfix": ") ",
     "delete_cmd_prefix": "rm(",
     "library": "var_list.r",
     "varRefreshCmd": "cat(var_dic_list()) "
    }
   },
   "types_to_exclude": [
    "module",
    "function",
    "builtin_function_or_method",
    "instance",
    "_Feature"
   ],
   "window_display": false
  }
 },
 "nbformat": 4,
 "nbformat_minor": 2
}
