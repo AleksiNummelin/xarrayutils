{
 "cells": [
  {
   "cell_type": "markdown",
   "metadata": {},
   "source": [
    "# Statistical tools\n",
    "\n",
    "\n",
    "## Correlating multidimensional arrays with a timeseries with `xr_linregress`\n",
    "\n",
    "Here we explore how to correlate a timeseries with a multidimensional array. As the timeseries we will use the NINO3.4 index, previously computed in [climate_indicies](climate_indicies.ipynb#NINO3.4-Index) and "
   ]
  },
  {
   "cell_type": "code",
   "execution_count": 1,
   "metadata": {},
   "outputs": [],
   "source": [
    "# import xarray as xr\n",
    "\n",
    "# url = 'http://iridl.ldeo.columbia.edu/SOURCES/.NASA/.GPCP/.V2p1/.multi-satellite/.prcp/dods'\n",
    "# dsp = xr.open_dataset(url, decode_times=False)\n",
    "# # fix IRIDL metadata that does not conform to standards\n",
    "# dsp.T.attrs['calendar'] = '360_day'\n",
    "# dsp = xr.decode_cf(dsp)\n",
    "# dsp"
   ]
  },
  {
   "cell_type": "code",
   "execution_count": 2,
   "metadata": {},
   "outputs": [],
   "source": [
    "# # Statistical tools\n",
    "\n",
    "# ## Correlating multidimensional arrays with a timeseries with `xr_linregress`\n",
    "\n",
    "# Here we explore how to correlate a timeseries with a multidimensional array. As the timeseries we will use the NINO3.4 index, previously computed in [climate_indicies]().\n",
    "\n",
    "# # save for future use\n",
    "# NINO.to_netcdf('nino_indicies.nc')\n",
    "\n",
    "# url = 'http://iridl.ldeo.columbia.edu/SOURCES/.NASA/.GPCP/.V2p1/.multi-satellite/.prcp/dods'\n",
    "# dsp = xr.open_dataset(url, decode_times=False)\n",
    "# # fix IRIDL metadata that does not conform to standards\n",
    "# dsp.T.attrs['calendar'] = '360_day'\n",
    "# dsp = xr.decode_cf(dsp)\n",
    "# dsp\n",
    "\n",
    "# # !cd ..; pip install -e .\n",
    "\n"
   ]
  },
  {
   "cell_type": "code",
   "execution_count": null,
   "metadata": {},
   "outputs": [],
   "source": []
  }
 ],
 "metadata": {
  "kernelspec": {
   "display_name": "Python 3",
   "language": "python",
   "name": "python3"
  },
  "language_info": {
   "codemirror_mode": {
    "name": "ipython",
    "version": 3
   },
   "file_extension": ".py",
   "mimetype": "text/x-python",
   "name": "python",
   "nbconvert_exporter": "python",
   "pygments_lexer": "ipython3",
   "version": "3.6.9"
  },
  "varInspector": {
   "cols": {
    "lenName": 16,
    "lenType": 16,
    "lenVar": 40
   },
   "kernels_config": {
    "python": {
     "delete_cmd_postfix": "",
     "delete_cmd_prefix": "del ",
     "library": "var_list.py",
     "varRefreshCmd": "print(var_dic_list())"
    },
    "r": {
     "delete_cmd_postfix": ") ",
     "delete_cmd_prefix": "rm(",
     "library": "var_list.r",
     "varRefreshCmd": "cat(var_dic_list()) "
    }
   },
   "types_to_exclude": [
    "module",
    "function",
    "builtin_function_or_method",
    "instance",
    "_Feature"
   ],
   "window_display": false
  }
 },
 "nbformat": 4,
 "nbformat_minor": 2
}
