{
 "cells": [
  {
   "cell_type": "markdown",
   "metadata": {},
   "source": [
    "Here I am trying to make it unecessary to used `vectorize` for the regression function, since that is slow, and also causes some funkyness with recent xarray/numpy versions."
   ]
  },
  {
   "cell_type": "code",
   "execution_count": 2,
   "metadata": {},
   "outputs": [],
   "source": [
    "import xarray as xr\n",
    "import numpy as np"
   ]
  },
  {
   "cell_type": "code",
   "execution_count": 6,
   "metadata": {},
   "outputs": [],
   "source": [
    "# from __future__ import print_function\n",
    "# import numpy as np\n",
    "# import xarray as xr\n",
    "# from scipy.signal import filtfilt, gaussian\n",
    "# from scipy import stats, interpolate\n",
    "# from dask.array import coarsen, ones_like\n",
    "# from dask.array.core import Array\n",
    "# import warnings\n",
    "# from xarrayutils.utilities import detect_dtype\n",
    "\n",
    "# def _linregress_ufunc(a, b, nanmask=False):\n",
    "#     \"\"\"ufunc to wrap scipy.stats.linregress for xr_linregress\"\"\"\n",
    "#     print('a shape', a.shape)\n",
    "#     print('b shape', b.shape)\n",
    "#     if nanmask:\n",
    "#         idxa = np.isnan(a)\n",
    "#         idxb = np.isnan(b)\n",
    "#         mask = np.logical_and(~idxa, ~idxb)\n",
    "#         if sum(~mask) < len(b):  # only applies the mask if not all nan\n",
    "#             a = a[mask]\n",
    "#             b = b[mask]\n",
    "#     slope, intercept, r_value, p_value, std_err = stats.linregress(a, b)\n",
    "#     return np.array([slope, intercept, r_value, p_value, std_err])\n",
    "\n",
    "# def _linregress_ufunc_vectorized(a, b, nanmask=False):\n",
    "#     \"\"\"ufunc to wrap scipy.stats.linregress for xr_linregress\"\"\"\n",
    "#     print('a shape', a.shape)\n",
    "#     print('b shape', b.shape)\n",
    "#     if nanmask:\n",
    "#         idxa = np.isnan(a)\n",
    "#         idxb = np.isnan(b)\n",
    "#         mask = np.logical_and(~idxa, ~idxb)\n",
    "#         if sum(~mask) < len(b):  # only applies the mask if not all nan\n",
    "#             a = a[mask]\n",
    "#             b = b[mask]\n",
    "#     slope, intercept, r_value, p_value, std_err = stats.linregress(a, b)\n",
    "#     return np.array([slope, intercept, r_value, p_value, std_err])\n",
    "\n",
    "\n",
    "# def xr_linregress(\n",
    "#     a, b, dim=\"time\", convert_to_dataset=True, dtype=None, nanmask=False\n",
    "# ):\n",
    "#     \"\"\"Applies scipy.stats.linregress over two xr.DataArrays or xr.Datasets.\n",
    "\n",
    "#     Parameters\n",
    "#     ----------\n",
    "#     a : {xr.DataArray}\n",
    "#         Independent variable for linear regression. E.g. time.\n",
    "#     b : {xr.DataArray, xr.Dataset}\n",
    "#         Dependent variable.\n",
    "#     dim : str\n",
    "#         Dimension over which to perform linear regression.\n",
    "#         Must be present in both `a` and `b` (the default is 'time').\n",
    "#     convert_to_dataset : bool\n",
    "#         Converts the output parameter to data_variables instead of an\n",
    "#         additional dimension (the default is True).\n",
    "#     dtype : dtype\n",
    "#          Dtype for the output. If None, defaults to dtype of `b`, or `b`s\n",
    "#          first data variable(the default is None).\n",
    "#     nanmask: bool\n",
    "#         optional masking of nans in the data to avoid nan output from\n",
    "#         regression (the default is False)\n",
    "\n",
    "#     Returns\n",
    "#     -------\n",
    "#     type(b)\n",
    "#         Returns a dataarray containing the parameter values of\n",
    "#         scipy.stats.linregress for each data_variable in `b`.\n",
    "\n",
    "#     \"\"\"\n",
    "\n",
    "#     if dtype is None:\n",
    "#         dtype = detect_dtype(b)\n",
    "\n",
    "#     stats = xr.apply_ufunc(\n",
    "#         _linregress_ufunc,\n",
    "#         a,\n",
    "#         b,\n",
    "#         nanmask,\n",
    "#         input_core_dims=[[dim], [dim], []],\n",
    "#         output_core_dims=[[\"parameter\"]],\n",
    "# #         vectorize=True,\n",
    "#         dask=\"parallelized\",\n",
    "#         output_dtypes=[dtype],\n",
    "#         output_sizes={\"parameter\": 5},\n",
    "#     )\n",
    "#     stats[\"parameter\"] = xr.DataArray(\n",
    "#         [\"slope\", \"intercept\", \"r_value\", \"p_value\", \"std_err\"],\n",
    "#         dims=[\"parameter\"],\n",
    "#     )\n",
    "#     if convert_to_dataset:\n",
    "#         # chug them all into a dataset\n",
    "#         ds_stats = xr.Dataset()\n",
    "#         for ff in stats.parameter.data:\n",
    "#             ds_stats[ff] = stats.sel(parameter=ff)\n",
    "#         out = ds_stats\n",
    "#     else:\n",
    "#         out = stats\n",
    "#     return out"
   ]
  },
  {
   "cell_type": "code",
   "execution_count": 10,
   "metadata": {},
   "outputs": [],
   "source": [
    "from xarrayutils.utils import xr_linregress, _linregress_ufunc"
   ]
  },
  {
   "cell_type": "code",
   "execution_count": 9,
   "metadata": {},
   "outputs": [
    {
     "data": {
      "text/plain": [
       "<xarray.Dataset>\n",
       "Dimensions:    (x: 3, y: 5)\n",
       "Coordinates:\n",
       "    parameter  <U9 'slope'\n",
       "Dimensions without coordinates: x, y\n",
       "Data variables:\n",
       "    slope      (x, y) float64 0.1654 0.05925 0.2712 ... 0.488 0.2944 -0.2398\n",
       "    intercept  (x, y) float64 0.3612 0.4725 0.2662 ... 0.2554 0.3736 0.6682\n",
       "    r_value    (x, y) float64 0.1686 0.05226 0.3013 ... 0.6893 0.3055 -0.2665\n",
       "    p_value    (x, y) float64 0.582 0.8654 0.317 ... 0.009154 0.3102 0.3788\n",
       "    std_err    (x, y) float64 0.2917 0.3413 0.2587 ... 0.1547 0.2767 0.2614"
      ]
     },
     "execution_count": 9,
     "metadata": {},
     "output_type": "execute_result"
    }
   ],
   "source": [
    "# test dataset\n",
    "dim_order = ('x', 'y', 'time')\n",
    "a = xr.DataArray(np.random.rand(3, 13, 5), dims=['x', 'time', 'y'])\n",
    "b = xr.DataArray(np.random.rand(3, 5, 13), dims=['x','y', 'time'])\n",
    "reg = xr_linregress(a,b)#\n",
    "reg"
   ]
  },
  {
   "cell_type": "code",
   "execution_count": 17,
   "metadata": {},
   "outputs": [],
   "source": [
    "np.testing.assert_allclose(reg.isel(x=xx, y=yy)['slope'].data, _linregress_ufunc(a.isel(x=xx, y=yy), b.isel(x=xx, y=yy))[0])"
   ]
  },
  {
   "cell_type": "code",
   "execution_count": 11,
   "metadata": {},
   "outputs": [],
   "source": [
    "xx = 1\n",
    "yy = 0"
   ]
  },
  {
   "cell_type": "code",
   "execution_count": 14,
   "metadata": {},
   "outputs": [
    {
     "data": {
      "text/plain": [
       "array(0.065724)"
      ]
     },
     "execution_count": 14,
     "metadata": {},
     "output_type": "execute_result"
    }
   ],
   "source": []
  },
  {
   "cell_type": "code",
   "execution_count": 16,
   "metadata": {},
   "outputs": [
    {
     "data": {
      "text/plain": [
       "0.06572399788434902"
      ]
     },
     "execution_count": 16,
     "metadata": {},
     "output_type": "execute_result"
    }
   ],
   "source": []
  },
  {
   "cell_type": "code",
   "execution_count": null,
   "metadata": {},
   "outputs": [],
   "source": []
  }
 ],
 "metadata": {
  "kernelspec": {
   "display_name": "Python [conda env:euc_dynamics]",
   "language": "python",
   "name": "conda-env-euc_dynamics-py"
  },
  "language_info": {
   "codemirror_mode": {
    "name": "ipython",
    "version": 3
   },
   "file_extension": ".py",
   "mimetype": "text/x-python",
   "name": "python",
   "nbconvert_exporter": "python",
   "pygments_lexer": "ipython3",
   "version": "3.7.5"
  }
 },
 "nbformat": 4,
 "nbformat_minor": 4
}
